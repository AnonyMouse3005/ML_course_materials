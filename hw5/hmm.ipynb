{
 "cells": [
  {
   "cell_type": "code",
   "execution_count": 1,
   "metadata": {},
   "outputs": [],
   "source": [
    "import bisect\n",
    "import itertools as it\n",
    "import random\n",
    "\n",
    "import numpy as np\n",
    "from hmmlearn import hmm"
   ]
  },
  {
   "cell_type": "code",
   "execution_count": 4,
   "metadata": {},
   "outputs": [],
   "source": [
    "NUCLEOTIDES = \"ACGT\"\n",
    "DINUCLEOTIDES = list(it.starmap(\"{}{}\".format, it.product(NUCLEOTIDES, NUCLEOTIDES)))\n",
    "\n",
    "def dinucleotide_to_num(seq):\n",
    "    lookup = dict(zip(DINUCLEOTIDES, range(len(NUCLEOTIDES) ** 2)))\n",
    "    \n",
    "    odd_bases = seq[::2]\n",
    "    even_bases = seq[1::2]\n",
    "    \n",
    "    dinucleotides = it.starmap(\"{}{}\".format, zip(odd_bases, even_bases))\n",
    "    \n",
    "    return [lookup[di] for di in dinucleotides]\n",
    "\n",
    "\n",
    "class Model:\n",
    "    def __init__(self, cpg_to_cpg, normal_to_normal, cpg_to_normal, normal_to_cpg, alphabet=NUCLEOTIDES):        \n",
    "        self.cpg_to_cpg = cpg_to_cpg\n",
    "        self.normal_to_normal = normal_to_normal\n",
    "        self.cpg_to_normal = cpg_to_normal\n",
    "        self.normal_to_cpg = normal_to_cpg\n",
    "        self.alphabet = alphabet    \n",
    "\n",
    "    def _cgp_probs(self):\n",
    "        joint = np.concatenate(\n",
    "            (\n",
    "                (1 - self.cpg_to_normal) * self.cpg_to_cpg,\n",
    "                self.cpg_to_normal * self.normal_to_normal,\n",
    "            ),\n",
    "            axis=1,\n",
    "        )\n",
    "\n",
    "        return joint\n",
    "\n",
    "    def _normal_probs(self):\n",
    "        joint = np.concatenate(\n",
    "            (\n",
    "                self.normal_to_cpg * self.cpg_to_cpg,\n",
    "                (1 - self.normal_to_cpg) * self.normal_to_normal,\n",
    "            ),\n",
    "            axis=1,\n",
    "        )\n",
    "\n",
    "        return joint\n",
    "\n",
    "    def transition_probs(self):\n",
    "        return np.concatenate((self._cgp_probs(), self._normal_probs()))\n",
    "\n",
    "    def generate(self, length):        \n",
    "        transition_cumsum = self.transition_probs().cumsum(axis=1)\n",
    "        bases = []\n",
    "        cpg_sites = []\n",
    "        cpg_start = None\n",
    "        in_cpg = False\n",
    "\n",
    "        start = random.randrange(len(transition_cumsum))\n",
    "        bases.append(self.alphabet[start % len(self.alphabet)])\n",
    "\n",
    "        if start < 4:\n",
    "            in_cpg = True\n",
    "            cpg_start = start\n",
    "\n",
    "        prev_index = start\n",
    "        for i in range(1, length):\n",
    "            p = random.random()\n",
    "            next_index = bisect.bisect_left(transition_cumsum[prev_index], p)\n",
    "            bases.append(self.alphabet[next_index % len(self.alphabet)])\n",
    "\n",
    "            if next_index < 4:\n",
    "                if not in_cpg:\n",
    "                    cpg_start = i\n",
    "                    in_cpg = True\n",
    "            else:\n",
    "                if in_cpg:\n",
    "                    cpg_sites.append((cpg_start, i - 1))\n",
    "                    in_cpg = False\n",
    "\n",
    "            prev_index = next_index\n",
    "\n",
    "        if in_cpg:\n",
    "            cpg_sites.append((cpg_start, length - 1))\n",
    "\n",
    "        return \"\".join(bases), cpg_sites"
   ]
  },
  {
   "cell_type": "code",
   "execution_count": 5,
   "metadata": {},
   "outputs": [],
   "source": [
    "# Rows are ACGT, columns are ACGT\n",
    "cpg_to_cpg_probs = np.array(\n",
    "    [\n",
    "        [0.1, 0.4, 0.4, 0.1],\n",
    "        [0.05, 0.45, 0.45, 0.05],\n",
    "        [0.05, 0.45, 0.45, 0.05],\n",
    "        [0.1, 0.4, 0.4, 0.1],\n",
    "    ]\n",
    ")\n",
    "\n",
    "normal_to_normal_probs = np.array(\n",
    "    [\n",
    "        [0.25, 0.25, 0.25, 0.25],\n",
    "        [0.15, 0.35, 0.35, 0.15],\n",
    "        [0.15, 0.35, 0.35, 0.15],\n",
    "        [0.25, 0.25, 0.25, 0.25],\n",
    "    ]\n",
    ")\n",
    "\n",
    "cpg_to_normal_prob = 0.005\n",
    "normal_to_cpg_prob = 0.0025\n",
    "\n",
    "simulator = Model(cpg_to_cpg_probs, normal_to_normal_probs, cpg_to_normal_prob, normal_to_cpg_prob)\n",
    "seq_train, cpg_train = simulator.generate(1000)\n",
    "seq_test, cpg_test = simulator.generate(500)"
   ]
  },
  {
   "cell_type": "code",
   "execution_count": 7,
   "metadata": {},
   "outputs": [],
   "source": [
    "dinuc = np.array(dinucleotide_to_num(seq_train)).reshape(1,-1)"
   ]
  },
  {
   "cell_type": "code",
   "execution_count": 8,
   "metadata": {},
   "outputs": [
    {
     "name": "stderr",
     "output_type": "stream",
     "text": [
      "         1       -1400.7734             +nan\n",
      "         2       -1296.6302        +104.1432\n",
      "         3       -1296.4561          +0.1741\n",
      "         4       -1296.2784          +0.1776\n",
      "         5       -1296.0852          +0.1932\n",
      "         6       -1295.8713          +0.2139\n",
      "         7       -1295.6392          +0.2321\n",
      "         8       -1295.3957          +0.2435\n",
      "         9       -1295.1464          +0.2493\n",
      "        10       -1294.8941          +0.2524\n",
      "        11       -1294.6398          +0.2542\n",
      "        12       -1294.3854          +0.2545\n",
      "        13       -1294.1334          +0.2520\n",
      "        14       -1293.8870          +0.2464\n",
      "        15       -1293.6490          +0.2380\n",
      "        16       -1293.4215          +0.2275\n",
      "        17       -1293.2055          +0.2160\n",
      "        18       -1293.0012          +0.2044\n",
      "        19       -1292.8077          +0.1934\n",
      "        20       -1292.6242          +0.1835\n",
      "        21       -1292.4494          +0.1748\n",
      "        22       -1292.2820          +0.1674\n",
      "        23       -1292.1209          +0.1611\n",
      "        24       -1291.9653          +0.1556\n",
      "        25       -1291.8143          +0.1510\n",
      "        26       -1291.6674          +0.1469\n",
      "        27       -1291.5241          +0.1433\n",
      "        28       -1291.3840          +0.1401\n",
      "        29       -1291.2468          +0.1372\n",
      "        30       -1291.1121          +0.1347\n",
      "        31       -1290.9796          +0.1325\n",
      "        32       -1290.8489          +0.1306\n",
      "        33       -1290.7198          +0.1292\n",
      "        34       -1290.5917          +0.1281\n",
      "        35       -1290.4642          +0.1275\n",
      "        36       -1290.3370          +0.1273\n",
      "        37       -1290.2094          +0.1275\n",
      "        38       -1290.0812          +0.1282\n",
      "        39       -1289.9518          +0.1293\n",
      "        40       -1289.8211          +0.1308\n",
      "        41       -1289.6887          +0.1324\n",
      "        42       -1289.5545          +0.1342\n",
      "        43       -1289.4185          +0.1360\n",
      "        44       -1289.2809          +0.1376\n",
      "        45       -1289.1421          +0.1388\n",
      "        46       -1289.0025          +0.1396\n",
      "        47       -1288.8627          +0.1398\n",
      "        48       -1288.7235          +0.1392\n",
      "        49       -1288.5857          +0.1378\n",
      "        50       -1288.4502          +0.1355\n"
     ]
    },
    {
     "data": {
      "text/plain": [
       "MultinomialHMM(n_components=2, n_iter=50,\n",
       "               random_state=RandomState(MT19937) at 0x7F2B5C99B940,\n",
       "               transmat_prior=array([[0.95, 0.05],\n",
       "       [0.05, 0.95]]),\n",
       "               verbose=True)"
      ]
     },
     "execution_count": 8,
     "metadata": {},
     "output_type": "execute_result"
    }
   ],
   "source": [
    "initial_emission_matrix = np.array(\n",
    "    [[0.95, 0.05],\n",
    "     [0.05, 0.95]]\n",
    ")\n",
    "\n",
    "model = hmm.MultinomialHMM(n_components=2, transmat_prior=initial_emission_matrix, \n",
    "                           n_iter=50, verbose=True)\n",
    "model.fit(dinuc)"
   ]
  },
  {
   "cell_type": "code",
   "execution_count": 29,
   "metadata": {},
   "outputs": [
    {
     "data": {
      "image/png": "[encoded data removed]",
      "text/plain": [
       "<Figure size 720x720 with 1 Axes>"
      ]
     },
     "metadata": {
      "needs_background": "light"
     },
     "output_type": "display_data"
    }
   ],
   "source": [
    "def plot_emmision_probabilities(probs, dinuc):\n",
    "    import seaborn as sns\n",
    "    from matplotlib import pyplot as plt\n",
    "    fig, ax = plt.subplots(figsize=(10, 10))\n",
    "    ax = sns.heatmap(probs, square=True, yticklabels=['CpG States', 'Non-CpG States'], \n",
    "                     xticklabels=dinuc, annot=True, \n",
    "                     linewidths=0.5, ax=ax, cbar=False, fmt='.3f')\n",
    "    \n",
    "plot_emmision_probabilities(model.emissionprob_, DINUCLEOTIDES)"
   ]
  },
  {
   "cell_type": "markdown",
   "metadata": {},
   "source": [
    "The emission probability matrix of symbols given hidden state has a clear biological interpretation: when we're currently in a CpG island, the probability of emitting a CG dinucleotyde is significantly higher than outside CG island."
   ]
  },
  {
   "cell_type": "code",
   "execution_count": 30,
   "metadata": {},
   "outputs": [
    {
     "name": "stdout",
     "output_type": "stream",
     "text": [
      "[0 0 0 0 0 1 1 1 0 0 0 0 0 1 1 1 1 1 1 1 1 1 1 1 1 1 1 1 1 1 1 1 0 0 0 0 0\n",
      " 1 1 1 1 0 0 0 0 0 0 0 0 0 0 1 1 1 1 1 1 1 1 1 1 0 0 0 0 0 0 1 1 1 1 1 1 1\n",
      " 1 1 1 1 1 1 1 1 0 0 0 0 1 1 1 1 1 0 0 0 0 0 0 1 1 1 1 1 1 1 1 1 1 0 0 1 1\n",
      " 1 1 1 1 1 0 0 0 0 0 0 1 1 1 1 1 1 1 1 1 0 0 0 0 0 0 0 0 0 0 0 0 0 0 0 0 0\n",
      " 0 0 0 0 0 1 0 0 0 1 1 1 1 1 1 1 0 0 0 1 1 1 1 1 1 1 1 1 0 0 0 0 0 1 1 1 1\n",
      " 1 1 1 0 0 0 0 0 0 1 1 0 0 0 1 1 1 1 0 0 0 0 0 1 1 1 0 0 0 1 1 1 1 1 1 1 1\n",
      " 1 1 0 0 0 0 0 0 0 0 1 1 1 1 1 1 0 0 1 1 1 1 1 1 0 0 0 0]\n",
      "[(1, 238)]\n",
      "CGGGCGCGGGCAACCCCGCGTCCGCGCAGGGGCCCACCCGCCCCGGCCGGCGGCCCCGGGCCCACGGCCGCGGGCCCGCCCCGGCGGGTTTCCGATCGGGCGCCCGGCGGCCCCGCACGCTGCTGCCGGCCGCGGCCCGGGGCGGCGGGGGGGGGCTCGCGGCCAGGGCGGGCCCCCGCCCCCGCGGGGCAGCGCCCGCCGGCGGCCCGGCCCAGGCTGCGCCGGCGCATGCCGCGGGGATGGACCCAAAAACGTGTCTGGCTAAGGGGGTCGGGCTAATATACCGCGAAGCGATATATTCTATAGCCTTGAGGCCCCCCGTTCGCAACGGCCTGTGCGGCAGGGATGAATGGACTAATTTCGCCACGGGTGGCGCCTAGGGGGAAAGGTCATAGCCGGCTGCACCGATGCTCGCGCCAGGCGGCTCTAACCCAGGAGAAAACCTCCCATGAATAGAATCCGCGGCTGCGTGCACCATTTCCGAGGGTCAAAGACTAGTC\n"
     ]
    }
   ],
   "source": [
    "dinuc = np.array(dinucleotide_to_num(seq_test)).reshape(1,-1).T\n",
    "print(model.predict(dinuc))\n",
    "print(cpg_test)\n",
    "print(seq_test)"
   ]
  }
 ],
 "metadata": {
  "kernelspec": {
   "display_name": "Python 3",
   "language": "python",
   "name": "python3"
  },
  "language_info": {
   "codemirror_mode": {
    "name": "ipython",
    "version": 3
   },
   "file_extension": ".py",
   "mimetype": "text/x-python",
   "name": "python",
   "nbconvert_exporter": "python",
   "pygments_lexer": "ipython3",
   "version": "3.8.6"
  }
 },
 "nbformat": 4,
 "nbformat_minor": 4
}
