{
 "cells": [
  {
   "cell_type": "markdown",
   "metadata": {},
   "source": [
    "## Building Decision Tree for Classification\n",
    "\n",
    "In this notebook, we have two tasks: exploratory data analysis (EDA), building a decision tree classifier. We use the same data set ([Iris](https://archive.ics.uci.edu/ml/datasets/iris))for both tasks. \n",
    "\n",
    "We will see the details of the data set in EDA part. We will use the Orange Python API for building a decision tree. A popular Python machine learning library Scikit-learn doesn't have proper decision tree implementation. See [here](https://github.com/scikit-learn/scikit-learn/issues/5442)."
   ]
  },
  {
   "cell_type": "markdown",
   "metadata": {},
   "source": [
    "### 3rd Party Libraries"
   ]
  },
  {
   "cell_type": "code",
   "execution_count": 1,
   "metadata": {},
   "outputs": [],
   "source": [
    "# import necessary libraries\n",
    "import matplotlib.pyplot as plt\n",
    "import numpy as np\n",
    "import Orange\n",
    "import pandas as pd\n",
    "from graphviz import Digraph\n",
    "from pandas_profiling import ProfileReport\n",
    "from sklearn.decomposition import PCA\n",
    "from sklearn.manifold import TSNE\n",
    "\n",
    "plt.style.use(\"ggplot\")"
   ]
  },
  {
   "cell_type": "markdown",
   "metadata": {},
   "source": [
    "### Helper Functions for Tidying Data, Dimensionality Reduction, Tree Visualization, Performance Evaluation"
   ]
  },
  {
   "cell_type": "code",
   "execution_count": 2,
   "metadata": {},
   "outputs": [],
   "source": [
    "def decompose_dataset(table):\n",
    "    return table.X, table.Y, table.domain.class_var.values\n",
    "\n",
    "\n",
    "def table2dataframe(table):\n",
    "    def map_values(vals, real):\n",
    "        return [real[i] for i in vals]\n",
    "\n",
    "    attributes = [attr.name for attr in table.domain.attributes]\n",
    "    target = table.domain.class_var.name\n",
    "\n",
    "    X, y, _ = decompose_dataset(table)\n",
    "\n",
    "    return table, pd.DataFrame(data=np.c_[X, y], columns=attributes + [target])\n",
    "\n",
    "\n",
    "def pca(dataset):\n",
    "    X, y, target_names = decompose_dataset(dataset)\n",
    "\n",
    "    pca = PCA(n_components=2)\n",
    "    X_r = pca.fit_transform(X)\n",
    "\n",
    "    # Percentage of variance explained for each components\n",
    "    explained_var = sum(pca.explained_variance_ratio_)\n",
    "\n",
    "    return X_r, y, target_names, explained_var\n",
    "\n",
    "\n",
    "def tsne(dataset, itr=1000):\n",
    "    X, y, target_names = decompose_dataset(dataset)\n",
    "\n",
    "    tsne = TSNE(n_components=2, n_iter=itr)\n",
    "\n",
    "    X_r = tsne.fit_transform(X)\n",
    "\n",
    "    return X_r, y, target_names\n",
    "\n",
    "\n",
    "def plot_dim_reduce(X_r, y, target_names, ax=None, palette=\"tab10\", **kwargs):\n",
    "    if not ax:\n",
    "        ax = plt.gca()\n",
    "\n",
    "    uniq_target = set(y)\n",
    "    colors = plt.get_cmap(palette)(np.arange(len(uniq_target), dtype=int))\n",
    "    lw = 2\n",
    "\n",
    "    for color, i, target_name in zip(colors, uniq_target, target_names):\n",
    "        ax.scatter(\n",
    "            X_r[y == i, 0],\n",
    "            X_r[y == i, 1],\n",
    "            color=color,\n",
    "            alpha=0.8,\n",
    "            lw=lw,\n",
    "            label=target_name,\n",
    "        )\n",
    "\n",
    "    ax.legend(loc=\"best\", shadow=True, scatterpoints=1)\n",
    "    ax.set_xlabel(kwargs[\"xtitle\"])\n",
    "    ax.set_ylabel(kwargs[\"ytitle\"])\n",
    "    ax.set_title(kwargs[\"title\"])\n",
    "\n",
    "\n",
    "def plot_pca_tsne(dataset, name):\n",
    "    fig, axes = plt.subplots(nrows=1, ncols=2, figsize=(12, 8))\n",
    "    X_r_pca, y, target_names, explained_var = pca(dataset)\n",
    "    title1 = \"{} -- Total Variation: %{:.3f}\".format(name, explained_var)\n",
    "    plot_dim_reduce(\n",
    "        X_r_pca, y, target_names, axes[0], xtitle=\"PC 1\", ytitle=\"PC 2\", title=title1\n",
    "    )\n",
    "\n",
    "    X_r_tsne, _, _ = tsne(dataset)\n",
    "    title2 = \"{} -- TSNE Visualization\".format(name)\n",
    "    plot_dim_reduce(\n",
    "        X_r_tsne, y, target_names, axes[1], xtitle=\"Dim 1\", ytitle=\"Dim 2\", title=title2\n",
    "    )\n",
    "\n",
    "    fig.tight_layout(pad=5.0)\n",
    "\n",
    "\n",
    "def class_dist(num_obs, labels, justified=\"\\l\"):\n",
    "    dist = np.array(num_obs) / sum(num_obs)\n",
    "    dist_labels = dict(zip(labels, dist))\n",
    "\n",
    "    return justified.join([\"{} = {:.3f}\".format(k, v) for k, v in dist_labels.items()])\n",
    "\n",
    "\n",
    "def visualize_tree(tree, labels):\n",
    "    def visualize_tree_aux(root, labels, dot=None):\n",
    "        if not dot:\n",
    "            dot = Digraph()\n",
    "            dot.attr(\"node\", shape=\"record\")\n",
    "            desc = class_dist(root.value, labels)\n",
    "            dot.node(name=str(root), label=\"{{{}|{}}}\".format(desc, root.attr.name))\n",
    "\n",
    "        for child in root.children:\n",
    "            attr = child.attr\n",
    "            desc = class_dist(child.value, labels)\n",
    "            if attr:\n",
    "                dot.node(name=str(child), label=\"{{{}|{}}}\".format(desc, attr.name))\n",
    "                dot.edge(str(root), str(child), label=child.description)\n",
    "            else:\n",
    "                dot.node(name=str(child), label=\"{{{}|{}}}\".format(desc, \"\"))\n",
    "                dot.edge(str(root), str(child), label=child.description)\n",
    "\n",
    "            visualize_tree_aux(child, labels, dot)\n",
    "\n",
    "        return dot\n",
    "\n",
    "    return visualize_tree_aux(tree.root, labels)\n",
    "\n",
    "def evaluate_performance(test, pred):\n",
    "    result = Orange.evaluation.Results()\n",
    "    result.actual = test.Y\n",
    "    result.predicted = [pred]\n",
    "\n",
    "    ca = Orange.evaluation.CA()\n",
    "\n",
    "    return ca(result)[0]"
   ]
  },
  {
   "cell_type": "markdown",
   "metadata": {},
   "source": [
    "### Exploratory Data Analysis\n",
    "\n",
    "Pandas-profiling library provides a very detailed `ProfileReport`. It is widget based, to get a better understanding of the data, navigate its tabs. Distribution of each attribute, interactions and correlations between attributes, missing values and duplicate rows are summarized."
   ]
  },
  {
   "cell_type": "code",
   "execution_count": 20,
   "metadata": {},
   "outputs": [
    {
     "data": {
      "application/vnd.jupyter.widget-view+json": {
       "model_id": "101914af77204377b044ede4fdbbcb93",
       "version_major": 2,
       "version_minor": 0
      },
      "text/plain": [
       "HBox(children=(HTML(value='Summarize dataset'), FloatProgress(value=0.0, max=19.0), HTML(value='')))"
      ]
     },
     "metadata": {},
     "output_type": "display_data"
    },
    {
     "name": "stdout",
     "output_type": "stream",
     "text": [
      "\n"
     ]
    },
    {
     "data": {
      "application/vnd.jupyter.widget-view+json": {
       "model_id": "e27ee14c8bf449b69663edf329cbd2f3",
       "version_major": 2,
       "version_minor": 0
      },
      "text/plain": [
       "HBox(children=(HTML(value='Generate report structure'), FloatProgress(value=0.0, max=1.0), HTML(value='')))"
      ]
     },
     "metadata": {},
     "output_type": "display_data"
    },
    {
     "name": "stdout",
     "output_type": "stream",
     "text": [
      "\n"
     ]
    },
    {
     "data": {
      "application/vnd.jupyter.widget-view+json": {
       "model_id": "",
       "version_major": 2,
       "version_minor": 0
      },
      "text/plain": [
       "HBox(children=(HTML(value='Render widgets'), FloatProgress(value=0.0, max=1.0), HTML(value='')))"
      ]
     },
     "metadata": {},
     "output_type": "display_data"
    },
    {
     "data": {
      "application/vnd.jupyter.widget-view+json": {
       "model_id": "ac65b7a870df4a1f8b06d93a40cc176c",
       "version_major": 2,
       "version_minor": 0
      },
      "text/plain": [
       "VBox(children=(Tab(children=(Tab(children=(GridBox(children=(VBox(children=(GridspecLayout(children=(HTML(valu…"
      ]
     },
     "metadata": {},
     "output_type": "display_data"
    }
   ],
   "source": [
    "dataset, df = table2dataframe(Orange.data.Table(\"iris\"))\n",
    "profile = ProfileReport(df, title=\"Pandas Profiling Report\", explorative=True)\n",
    "profile.to_widgets()"
   ]
  },
  {
   "cell_type": "markdown",
   "metadata": {},
   "source": [
    "### Dimensionality Reduction Plots\n",
    "\n",
    "PCA and TSNE are commonly used dimensionality reduction methods. Here, we show the resulting 2D projections of these methods on the Iris data set."
   ]
  },
  {
   "cell_type": "code",
   "execution_count": 21,
   "metadata": {},
   "outputs": [
    {
     "data": {
      "image/png": "[encoded data removed]",
      "text/plain": [
       "<Figure size 864x576 with 2 Axes>"
      ]
     },
     "metadata": {},
     "output_type": "display_data"
    }
   ],
   "source": [
    "plot_pca_tsne(dataset, \"iris\")"
   ]
  },
  {
   "cell_type": "markdown",
   "metadata": {},
   "source": [
    "### Building Decision Tree Model, Training and Testing Data Split\n",
    "\n",
    "We split the data set into training (80%) and testing (20%) using stratified sampling which ensures that the proportion of classes in the data set is reflected in splits. To prevent overfitting, pre-pruning schemes can be applied. In the `TreeLearner` class pre-pruning is controlled by `max_depth`, `min_samples_leaf`, `min_samples_split`, `sufficient_majority`. See [documentation](https://orange-data-mining-library.readthedocs.io/en/latest/reference/classification.html#Orange.classification.TreeLearner)."
   ]
  },
  {
   "cell_type": "code",
   "execution_count": 22,
   "metadata": {},
   "outputs": [
    {
     "name": "stdout",
     "output_type": "stream",
     "text": [
      "       [40.  0.  0.] petal length ≤ 1.9\n",
      "       [ 0. 40. 40.] petal length > 1.9\n",
      "       [ 0. 40.  3.]     petal width ≤ 1.7\n",
      "       [ 0. 39.  0.]         petal length ≤ 4.9\n",
      "          [0. 1. 3.]         petal length > 4.9\n",
      "          [0. 0. 3.]             petal width ≤ 1.6\n",
      "          [0. 1. 0.]             petal width > 1.6\n",
      "       [ 0.  0. 37.]     petal width > 1.7\n",
      "\n"
     ]
    },
    {
     "data": {
      "image/svg+xml": [
       "<?xml version=\"1.0\" encoding=\"UTF-8\" standalone=\"no\"?>\n",
       "<!DOCTYPE svg PUBLIC \"-//W3C//DTD SVG 1.1//EN\"\n",
       " \"http://www.w3.org/Graphics/SVG/1.1/DTD/svg11.dtd\">\n",
       "<!-- Generated by graphviz version 2.44.1 (0)\n",
       " -->\n",
       "<!-- Pages: 1 -->\n",
       "<svg width=\"511pt\" height=\"597pt\"\n",
       " viewBox=\"0.00 0.00 511.00 597.00\" xmlns=\"http://www.w3.org/2000/svg\" xmlns:xlink=\"http://www.w3.org/1999/xlink\">\n",
       "<g id=\"graph0\" class=\"graph\" transform=\"scale(1 1) rotate(0) translate(4 593)\">\n",
       "<polygon fill=\"white\" stroke=\"transparent\" points=\"-4,4 -4,-593 507,-593 507,4 -4,4\"/>\n",
       "<!-- Orange.tree.NumericNode object at 0x7fd92158b9a0 -->\n",
       "<g id=\"node1\" class=\"node\">\n",
       "<title>Orange.tree.NumericNode object at 0x7fd92158b9a0</title>\n",
       "<polygon fill=\"none\" stroke=\"black\" points=\"31,-512.5 31,-588.5 208,-588.5 208,-512.5 31,-512.5\"/>\n",
       "<text text-anchor=\"start\" x=\"39\" y=\"-573.3\" font-family=\"Times,serif\" font-size=\"14.00\">Iris&#45;setosa = 0.333</text>\n",
       "<text text-anchor=\"start\" x=\"39\" y=\"-558.3\" font-family=\"Times,serif\" font-size=\"14.00\">Iris&#45;versicolor = 0.333</text>\n",
       "<text text-anchor=\"middle\" x=\"119.5\" y=\"-543.3\" font-family=\"Times,serif\" font-size=\"14.00\">Iris&#45;virginica = 0.333</text>\n",
       "<polyline fill=\"none\" stroke=\"black\" points=\"31,-535.5 208,-535.5 \"/>\n",
       "<text text-anchor=\"middle\" x=\"119.5\" y=\"-520.3\" font-family=\"Times,serif\" font-size=\"14.00\">petal length</text>\n",
       "</g>\n",
       "<!-- Orange.tree.Node object at 0x7fd9216e0940 -->\n",
       "<g id=\"node2\" class=\"node\">\n",
       "<title>Orange.tree.Node object at 0x7fd9216e0940</title>\n",
       "<polygon fill=\"none\" stroke=\"black\" points=\"0,-384.5 0,-460.5 177,-460.5 177,-384.5 0,-384.5\"/>\n",
       "<text text-anchor=\"start\" x=\"8\" y=\"-445.3\" font-family=\"Times,serif\" font-size=\"14.00\">Iris&#45;setosa = 1.000</text>\n",
       "<text text-anchor=\"start\" x=\"8\" y=\"-430.3\" font-family=\"Times,serif\" font-size=\"14.00\">Iris&#45;versicolor = 0.000</text>\n",
       "<text text-anchor=\"middle\" x=\"88.5\" y=\"-415.3\" font-family=\"Times,serif\" font-size=\"14.00\">Iris&#45;virginica = 0.000</text>\n",
       "<polyline fill=\"none\" stroke=\"black\" points=\"0,-407.5 177,-407.5 \"/>\n",
       "<text text-anchor=\"middle\" x=\"88.5\" y=\"-392.3\" font-family=\"Times,serif\" font-size=\"14.00\"> </text>\n",
       "</g>\n",
       "<!-- Orange.tree.NumericNode object at 0x7fd92158b9a0&#45;&gt;Orange.tree.Node object at 0x7fd9216e0940 -->\n",
       "<g id=\"edge1\" class=\"edge\">\n",
       "<title>Orange.tree.NumericNode object at 0x7fd92158b9a0&#45;&gt;Orange.tree.Node object at 0x7fd9216e0940</title>\n",
       "<path fill=\"none\" stroke=\"black\" d=\"M110.37,-512.38C107.15,-499.29 103.48,-484.41 100.09,-470.61\"/>\n",
       "<polygon fill=\"black\" stroke=\"black\" points=\"103.46,-469.67 97.68,-460.79 96.67,-471.34 103.46,-469.67\"/>\n",
       "<text text-anchor=\"middle\" x=\"125.5\" y=\"-482.8\" font-family=\"Times,serif\" font-size=\"14.00\">≤ 1.9</text>\n",
       "</g>\n",
       "<!-- Orange.tree.NumericNode object at 0x7fd921c3a910 -->\n",
       "<g id=\"node3\" class=\"node\">\n",
       "<title>Orange.tree.NumericNode object at 0x7fd921c3a910</title>\n",
       "<polygon fill=\"none\" stroke=\"black\" points=\"195,-384.5 195,-460.5 372,-460.5 372,-384.5 195,-384.5\"/>\n",
       "<text text-anchor=\"start\" x=\"203\" y=\"-445.3\" font-family=\"Times,serif\" font-size=\"14.00\">Iris&#45;setosa = 0.000</text>\n",
       "<text text-anchor=\"start\" x=\"203\" y=\"-430.3\" font-family=\"Times,serif\" font-size=\"14.00\">Iris&#45;versicolor = 0.500</text>\n",
       "<text text-anchor=\"middle\" x=\"283.5\" y=\"-415.3\" font-family=\"Times,serif\" font-size=\"14.00\">Iris&#45;virginica = 0.500</text>\n",
       "<polyline fill=\"none\" stroke=\"black\" points=\"195,-407.5 372,-407.5 \"/>\n",
       "<text text-anchor=\"middle\" x=\"283.5\" y=\"-392.3\" font-family=\"Times,serif\" font-size=\"14.00\">petal width</text>\n",
       "</g>\n",
       "<!-- Orange.tree.NumericNode object at 0x7fd92158b9a0&#45;&gt;Orange.tree.NumericNode object at 0x7fd921c3a910 -->\n",
       "<g id=\"edge2\" class=\"edge\">\n",
       "<title>Orange.tree.NumericNode object at 0x7fd92158b9a0&#45;&gt;Orange.tree.NumericNode object at 0x7fd921c3a910</title>\n",
       "<path fill=\"none\" stroke=\"black\" d=\"M167.82,-512.38C186.42,-498.09 207.82,-481.64 227.12,-466.82\"/>\n",
       "<polygon fill=\"black\" stroke=\"black\" points=\"229.45,-469.44 235.24,-460.57 225.18,-463.89 229.45,-469.44\"/>\n",
       "<text text-anchor=\"middle\" x=\"226.5\" y=\"-482.8\" font-family=\"Times,serif\" font-size=\"14.00\">&gt; 1.9</text>\n",
       "</g>\n",
       "<!-- Orange.tree.NumericNode object at 0x7fd92158b610 -->\n",
       "<g id=\"node4\" class=\"node\">\n",
       "<title>Orange.tree.NumericNode object at 0x7fd92158b610</title>\n",
       "<polygon fill=\"none\" stroke=\"black\" points=\"65,-256.5 65,-332.5 242,-332.5 242,-256.5 65,-256.5\"/>\n",
       "<text text-anchor=\"start\" x=\"73\" y=\"-317.3\" font-family=\"Times,serif\" font-size=\"14.00\">Iris&#45;setosa = 0.000</text>\n",
       "<text text-anchor=\"start\" x=\"73\" y=\"-302.3\" font-family=\"Times,serif\" font-size=\"14.00\">Iris&#45;versicolor = 0.930</text>\n",
       "<text text-anchor=\"middle\" x=\"153.5\" y=\"-287.3\" font-family=\"Times,serif\" font-size=\"14.00\">Iris&#45;virginica = 0.070</text>\n",
       "<polyline fill=\"none\" stroke=\"black\" points=\"65,-279.5 242,-279.5 \"/>\n",
       "<text text-anchor=\"middle\" x=\"153.5\" y=\"-264.3\" font-family=\"Times,serif\" font-size=\"14.00\">petal length</text>\n",
       "</g>\n",
       "<!-- Orange.tree.NumericNode object at 0x7fd921c3a910&#45;&gt;Orange.tree.NumericNode object at 0x7fd92158b610 -->\n",
       "<g id=\"edge3\" class=\"edge\">\n",
       "<title>Orange.tree.NumericNode object at 0x7fd921c3a910&#45;&gt;Orange.tree.NumericNode object at 0x7fd92158b610</title>\n",
       "<path fill=\"none\" stroke=\"black\" d=\"M245.2,-384.38C230.78,-370.4 214.24,-354.37 199.22,-339.81\"/>\n",
       "<polygon fill=\"black\" stroke=\"black\" points=\"201.59,-337.24 191.98,-332.79 196.72,-342.27 201.59,-337.24\"/>\n",
       "<text text-anchor=\"middle\" x=\"242.5\" y=\"-354.8\" font-family=\"Times,serif\" font-size=\"14.00\">≤ 1.7</text>\n",
       "</g>\n",
       "<!-- Orange.tree.Node object at 0x7fd92158b880 -->\n",
       "<g id=\"node9\" class=\"node\">\n",
       "<title>Orange.tree.Node object at 0x7fd92158b880</title>\n",
       "<polygon fill=\"none\" stroke=\"black\" points=\"260,-256.5 260,-332.5 437,-332.5 437,-256.5 260,-256.5\"/>\n",
       "<text text-anchor=\"start\" x=\"268\" y=\"-317.3\" font-family=\"Times,serif\" font-size=\"14.00\">Iris&#45;setosa = 0.000</text>\n",
       "<text text-anchor=\"start\" x=\"268\" y=\"-302.3\" font-family=\"Times,serif\" font-size=\"14.00\">Iris&#45;versicolor = 0.000</text>\n",
       "<text text-anchor=\"middle\" x=\"348.5\" y=\"-287.3\" font-family=\"Times,serif\" font-size=\"14.00\">Iris&#45;virginica = 1.000</text>\n",
       "<polyline fill=\"none\" stroke=\"black\" points=\"260,-279.5 437,-279.5 \"/>\n",
       "<text text-anchor=\"middle\" x=\"348.5\" y=\"-264.3\" font-family=\"Times,serif\" font-size=\"14.00\"> </text>\n",
       "</g>\n",
       "<!-- Orange.tree.NumericNode object at 0x7fd921c3a910&#45;&gt;Orange.tree.Node object at 0x7fd92158b880 -->\n",
       "<g id=\"edge8\" class=\"edge\">\n",
       "<title>Orange.tree.NumericNode object at 0x7fd921c3a910&#45;&gt;Orange.tree.Node object at 0x7fd92158b880</title>\n",
       "<path fill=\"none\" stroke=\"black\" d=\"M302.65,-384.38C309.53,-371.04 317.38,-355.83 324.61,-341.8\"/>\n",
       "<polygon fill=\"black\" stroke=\"black\" points=\"327.79,-343.28 329.26,-332.79 321.57,-340.08 327.79,-343.28\"/>\n",
       "<text text-anchor=\"middle\" x=\"338.5\" y=\"-354.8\" font-family=\"Times,serif\" font-size=\"14.00\">&gt; 1.7</text>\n",
       "</g>\n",
       "<!-- Orange.tree.Node object at 0x7fd92158bac0 -->\n",
       "<g id=\"node5\" class=\"node\">\n",
       "<title>Orange.tree.Node object at 0x7fd92158bac0</title>\n",
       "<polygon fill=\"none\" stroke=\"black\" points=\"34,-128.5 34,-204.5 211,-204.5 211,-128.5 34,-128.5\"/>\n",
       "<text text-anchor=\"start\" x=\"42\" y=\"-189.3\" font-family=\"Times,serif\" font-size=\"14.00\">Iris&#45;setosa = 0.000</text>\n",
       "<text text-anchor=\"start\" x=\"42\" y=\"-174.3\" font-family=\"Times,serif\" font-size=\"14.00\">Iris&#45;versicolor = 1.000</text>\n",
       "<text text-anchor=\"middle\" x=\"122.5\" y=\"-159.3\" font-family=\"Times,serif\" font-size=\"14.00\">Iris&#45;virginica = 0.000</text>\n",
       "<polyline fill=\"none\" stroke=\"black\" points=\"34,-151.5 211,-151.5 \"/>\n",
       "<text text-anchor=\"middle\" x=\"122.5\" y=\"-136.3\" font-family=\"Times,serif\" font-size=\"14.00\"> </text>\n",
       "</g>\n",
       "<!-- Orange.tree.NumericNode object at 0x7fd92158b610&#45;&gt;Orange.tree.Node object at 0x7fd92158bac0 -->\n",
       "<g id=\"edge4\" class=\"edge\">\n",
       "<title>Orange.tree.NumericNode object at 0x7fd92158b610&#45;&gt;Orange.tree.Node object at 0x7fd92158bac0</title>\n",
       "<path fill=\"none\" stroke=\"black\" d=\"M144.37,-256.38C141.15,-243.29 137.48,-228.41 134.09,-214.61\"/>\n",
       "<polygon fill=\"black\" stroke=\"black\" points=\"137.46,-213.67 131.68,-204.79 130.67,-215.34 137.46,-213.67\"/>\n",
       "<text text-anchor=\"middle\" x=\"159.5\" y=\"-226.8\" font-family=\"Times,serif\" font-size=\"14.00\">≤ 4.9</text>\n",
       "</g>\n",
       "<!-- Orange.tree.NumericNode object at 0x7fd92158b040 -->\n",
       "<g id=\"node6\" class=\"node\">\n",
       "<title>Orange.tree.NumericNode object at 0x7fd92158b040</title>\n",
       "<polygon fill=\"none\" stroke=\"black\" points=\"229,-128.5 229,-204.5 406,-204.5 406,-128.5 229,-128.5\"/>\n",
       "<text text-anchor=\"start\" x=\"237\" y=\"-189.3\" font-family=\"Times,serif\" font-size=\"14.00\">Iris&#45;setosa = 0.000</text>\n",
       "<text text-anchor=\"start\" x=\"237\" y=\"-174.3\" font-family=\"Times,serif\" font-size=\"14.00\">Iris&#45;versicolor = 0.250</text>\n",
       "<text text-anchor=\"middle\" x=\"317.5\" y=\"-159.3\" font-family=\"Times,serif\" font-size=\"14.00\">Iris&#45;virginica = 0.750</text>\n",
       "<polyline fill=\"none\" stroke=\"black\" points=\"229,-151.5 406,-151.5 \"/>\n",
       "<text text-anchor=\"middle\" x=\"317.5\" y=\"-136.3\" font-family=\"Times,serif\" font-size=\"14.00\">petal width</text>\n",
       "</g>\n",
       "<!-- Orange.tree.NumericNode object at 0x7fd92158b610&#45;&gt;Orange.tree.NumericNode object at 0x7fd92158b040 -->\n",
       "<g id=\"edge5\" class=\"edge\">\n",
       "<title>Orange.tree.NumericNode object at 0x7fd92158b610&#45;&gt;Orange.tree.NumericNode object at 0x7fd92158b040</title>\n",
       "<path fill=\"none\" stroke=\"black\" d=\"M201.82,-256.38C220.42,-242.09 241.82,-225.64 261.12,-210.82\"/>\n",
       "<polygon fill=\"black\" stroke=\"black\" points=\"263.45,-213.44 269.24,-204.57 259.18,-207.89 263.45,-213.44\"/>\n",
       "<text text-anchor=\"middle\" x=\"260.5\" y=\"-226.8\" font-family=\"Times,serif\" font-size=\"14.00\">&gt; 4.9</text>\n",
       "</g>\n",
       "<!-- Orange.tree.Node object at 0x7fd92158b5b0 -->\n",
       "<g id=\"node7\" class=\"node\">\n",
       "<title>Orange.tree.Node object at 0x7fd92158b5b0</title>\n",
       "<polygon fill=\"none\" stroke=\"black\" points=\"131,-0.5 131,-76.5 308,-76.5 308,-0.5 131,-0.5\"/>\n",
       "<text text-anchor=\"start\" x=\"139\" y=\"-61.3\" font-family=\"Times,serif\" font-size=\"14.00\">Iris&#45;setosa = 0.000</text>\n",
       "<text text-anchor=\"start\" x=\"139\" y=\"-46.3\" font-family=\"Times,serif\" font-size=\"14.00\">Iris&#45;versicolor = 0.000</text>\n",
       "<text text-anchor=\"middle\" x=\"219.5\" y=\"-31.3\" font-family=\"Times,serif\" font-size=\"14.00\">Iris&#45;virginica = 1.000</text>\n",
       "<polyline fill=\"none\" stroke=\"black\" points=\"131,-23.5 308,-23.5 \"/>\n",
       "<text text-anchor=\"middle\" x=\"219.5\" y=\"-8.3\" font-family=\"Times,serif\" font-size=\"14.00\"> </text>\n",
       "</g>\n",
       "<!-- Orange.tree.NumericNode object at 0x7fd92158b040&#45;&gt;Orange.tree.Node object at 0x7fd92158b5b0 -->\n",
       "<g id=\"edge6\" class=\"edge\">\n",
       "<title>Orange.tree.NumericNode object at 0x7fd92158b040&#45;&gt;Orange.tree.Node object at 0x7fd92158b5b0</title>\n",
       "<path fill=\"none\" stroke=\"black\" d=\"M288.63,-128.38C278.05,-114.78 265.97,-99.25 254.89,-85\"/>\n",
       "<polygon fill=\"black\" stroke=\"black\" points=\"257.41,-82.54 248.51,-76.79 251.88,-86.84 257.41,-82.54\"/>\n",
       "<text text-anchor=\"middle\" x=\"291.5\" y=\"-98.8\" font-family=\"Times,serif\" font-size=\"14.00\">≤ 1.6</text>\n",
       "</g>\n",
       "<!-- Orange.tree.Node object at 0x7fd92158bd60 -->\n",
       "<g id=\"node8\" class=\"node\">\n",
       "<title>Orange.tree.Node object at 0x7fd92158bd60</title>\n",
       "<polygon fill=\"none\" stroke=\"black\" points=\"326,-0.5 326,-76.5 503,-76.5 503,-0.5 326,-0.5\"/>\n",
       "<text text-anchor=\"start\" x=\"334\" y=\"-61.3\" font-family=\"Times,serif\" font-size=\"14.00\">Iris&#45;setosa = 0.000</text>\n",
       "<text text-anchor=\"start\" x=\"334\" y=\"-46.3\" font-family=\"Times,serif\" font-size=\"14.00\">Iris&#45;versicolor = 1.000</text>\n",
       "<text text-anchor=\"middle\" x=\"414.5\" y=\"-31.3\" font-family=\"Times,serif\" font-size=\"14.00\">Iris&#45;virginica = 0.000</text>\n",
       "<polyline fill=\"none\" stroke=\"black\" points=\"326,-23.5 503,-23.5 \"/>\n",
       "<text text-anchor=\"middle\" x=\"414.5\" y=\"-8.3\" font-family=\"Times,serif\" font-size=\"14.00\"> </text>\n",
       "</g>\n",
       "<!-- Orange.tree.NumericNode object at 0x7fd92158b040&#45;&gt;Orange.tree.Node object at 0x7fd92158bd60 -->\n",
       "<g id=\"edge7\" class=\"edge\">\n",
       "<title>Orange.tree.NumericNode object at 0x7fd92158b040&#45;&gt;Orange.tree.Node object at 0x7fd92158bd60</title>\n",
       "<path fill=\"none\" stroke=\"black\" d=\"M346.08,-128.38C356.54,-114.78 368.5,-99.25 379.47,-85\"/>\n",
       "<polygon fill=\"black\" stroke=\"black\" points=\"382.46,-86.85 385.79,-76.79 376.92,-82.58 382.46,-86.85\"/>\n",
       "<text text-anchor=\"middle\" x=\"389.5\" y=\"-98.8\" font-family=\"Times,serif\" font-size=\"14.00\">&gt; 1.6</text>\n",
       "</g>\n",
       "</g>\n",
       "</svg>\n"
      ],
      "text/plain": [
       "<graphviz.dot.Digraph at 0x7fd9080d0d00>"
      ]
     },
     "execution_count": 22,
     "metadata": {},
     "output_type": "execute_result"
    }
   ],
   "source": [
    "training, testing = Orange.evaluation.testing.sample(\n",
    "    dataset, n=0.8, stratified=True, replace=False\n",
    ")\n",
    "assert len(training) + len(testing) == len(dataset)\n",
    "\n",
    "learner = Orange.classification.TreeLearner(max_depth=None, min_samples_leaf=1, min_samples_split=2, sufficient_majority=0.95) #algorithm\n",
    "dt = learner(training)\n",
    "\n",
    "print(dt.print_tree())\n",
    "visualize_tree(dt, list(training.domain.class_var.values))"
   ]
  },
  {
   "cell_type": "markdown",
   "metadata": {},
   "source": [
    "### Evaluating Model\n",
    "\n",
    "We will report classification accuracy on test set."
   ]
  },
  {
   "cell_type": "code",
   "execution_count": 23,
   "metadata": {},
   "outputs": [
    {
     "name": "stdout",
     "output_type": "stream",
     "text": [
      "Classification Accuracy = 0.900\n"
     ]
    }
   ],
   "source": [
    "y_pred = dt(testing)\n",
    "\n",
    "acc = evaluate_performance(testing, y_pred)\n",
    "print(\"Classification Accuracy = {:.3f}\".format(acc))"
   ]
  },
  {
   "cell_type": "markdown",
   "metadata": {},
   "source": [
    "### Exercise\n",
    "\n",
    "1. Change parameters of `TreeLearner` for pre-pruning. Report model accuracies and discuss your findings.\n",
    "2. Repeat all the steps for housing data set `Orange.data.Table(\"zoo\")`"
   ]
  },
  {
   "cell_type": "markdown",
   "metadata": {},
   "source": [
    "<a rel=\"license\" href=\"http://creativecommons.org/licenses/by-nc-sa/4.0/\"><img alt=\"Creative Commons License\" style=\"border-width:0\" src=\"https://i.creativecommons.org/l/by-nc-sa/4.0/88x31.png\" /></a><br />This work is licensed under a <a rel=\"license\" href=\"http://creativecommons.org/licenses/by-nc-sa/4.0/\">Creative Commons Attribution-NonCommercial-ShareAlike 4.0 International License</a>.\n",
    "\n",
    "Please contact Haluk Dogan (<a href=\"mailto:hdogan@vivaldi.net\">hdogan@vivaldi.net</a>) for further questions or inquries."
   ]
  }
 ],
 "metadata": {
  "kernelspec": {
   "display_name": "Python 3",
   "language": "python",
   "name": "python3"
  },
  "language_info": {
   "codemirror_mode": {
    "name": "ipython",
    "version": 3
   },
   "file_extension": ".py",
   "mimetype": "text/x-python",
   "name": "python",
   "nbconvert_exporter": "python",
   "pygments_lexer": "ipython3",
   "version": "3.8.6"
  }
 },
 "nbformat": 4,
 "nbformat_minor": 4
}
