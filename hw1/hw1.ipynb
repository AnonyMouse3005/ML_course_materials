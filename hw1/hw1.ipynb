{
 "cells": [
  {
   "cell_type": "markdown",
   "metadata": {},
   "source": [
    "## Building Decision Tree for Classification Tasks"
   ]
  },
  {
   "cell_type": "markdown",
   "metadata": {},
   "source": [
    "### 3rd Party Libraries"
   ]
  },
  {
   "cell_type": "code",
   "execution_count": 1,
   "metadata": {},
   "outputs": [],
   "source": [
    "import matplotlib.pyplot as plt\n",
    "import numpy as np\n",
    "import Orange\n",
    "import pandas as pd\n",
    "from graphviz import Digraph\n",
    "from pandas_profiling import ProfileReport\n",
    "from sklearn.decomposition import PCA\n",
    "from sklearn.manifold import TSNE\n",
    "\n",
    "plt.style.use(\"ggplot\")"
   ]
  },
  {
   "cell_type": "markdown",
   "metadata": {},
   "source": [
    "### Helper Functions for Tidying Data, Dimensionality Reduction, Tree Visualization, Performance Evaluation"
   ]
  },
  {
   "cell_type": "code",
   "execution_count": 2,
   "metadata": {},
   "outputs": [],
   "source": [
    "def decompose_dataset(table):\n",
    "    return table.X, table.Y, table.domain.class_var.values\n",
    "\n",
    "\n",
    "def table2dataframe(table):\n",
    "    def map_values(vals, real):\n",
    "        return [real[i] for i in vals]\n",
    "\n",
    "    attributes = [attr.name for attr in table.domain.attributes]\n",
    "    target = table.domain.class_var.name\n",
    "\n",
    "    X, y, _ = decompose_dataset(table)\n",
    "\n",
    "    return table, pd.DataFrame(data=np.c_[X, y], columns=attributes + [target])\n",
    "\n",
    "\n",
    "def pca(dataset):\n",
    "    X, y, target_names = decompose_dataset(dataset)\n",
    "\n",
    "    pca = PCA(n_components=2)\n",
    "    X_r = pca.fit_transform(X)\n",
    "\n",
    "    # Percentage of variance explained for each components\n",
    "    explained_var = sum(pca.explained_variance_ratio_)\n",
    "\n",
    "    return X_r, y, target_names, explained_var\n",
    "\n",
    "\n",
    "def tsne(dataset, itr=1000):\n",
    "    X, y, target_names = decompose_dataset(dataset)\n",
    "\n",
    "    tsne = TSNE(n_components=2, n_iter=itr)\n",
    "\n",
    "    X_r = tsne.fit_transform(X)\n",
    "\n",
    "    return X_r, y, target_names\n",
    "\n",
    "\n",
    "def plot_dim_reduce(X_r, y, target_names, ax=None, palette=\"tab10\", **kwargs):\n",
    "    if not ax:\n",
    "        ax = plt.gca()\n",
    "\n",
    "    uniq_target = set(y)\n",
    "    colors = plt.get_cmap(palette)(np.arange(len(uniq_target), dtype=int))\n",
    "    lw = 2\n",
    "\n",
    "    for color, i, target_name in zip(colors, uniq_target, target_names):\n",
    "        ax.scatter(\n",
    "            X_r[y == i, 0],\n",
    "            X_r[y == i, 1],\n",
    "            color=color,\n",
    "            alpha=0.8,\n",
    "            lw=lw,\n",
    "            label=target_name,\n",
    "        )\n",
    "\n",
    "    ax.legend(loc=\"best\", shadow=True, scatterpoints=1)\n",
    "    ax.set_xlabel(kwargs[\"xtitle\"])\n",
    "    ax.set_ylabel(kwargs[\"ytitle\"])\n",
    "    ax.set_title(kwargs[\"title\"])\n",
    "\n",
    "\n",
    "def plot_pca_tsne(dataset, name):\n",
    "    fig, axes = plt.subplots(nrows=1, ncols=2, figsize=(12, 8))\n",
    "    X_r_pca, y, target_names, explained_var = pca(dataset)\n",
    "    title1 = \"{} -- Total Variation: %{:.3f}\".format(name, explained_var)\n",
    "    plot_dim_reduce(\n",
    "        X_r_pca, y, target_names, axes[0], xtitle=\"PC 1\", ytitle=\"PC 2\", title=title1\n",
    "    )\n",
    "\n",
    "    X_r_tsne, _, _ = tsne(dataset)\n",
    "    title2 = \"{} -- TSNE Visualization\".format(name)\n",
    "    plot_dim_reduce(\n",
    "        X_r_tsne, y, target_names, axes[1], xtitle=\"Dim 1\", ytitle=\"Dim 2\", title=title2\n",
    "    )\n",
    "\n",
    "    fig.tight_layout(pad=5.0)\n",
    "\n",
    "\n",
    "def class_dist(num_obs, labels, justified=\"\\l\"):\n",
    "    dist = np.array(num_obs) / sum(num_obs)\n",
    "    dist_labels = dict(zip(labels, dist))\n",
    "\n",
    "    return justified.join([\"{} = {:.3f}\".format(k, v) for k, v in dist_labels.items()])\n",
    "\n",
    "\n",
    "def visualize_tree(tree, labels):\n",
    "    def visualize_tree_aux(root, labels, dot=None):\n",
    "        if not dot:\n",
    "            dot = Digraph()\n",
    "            dot.attr(\"node\", shape=\"record\")\n",
    "            desc = class_dist(root.value, labels)\n",
    "            dot.node(name=str(root), label=\"{{{}|{}}}\".format(desc, root.attr.name))\n",
    "\n",
    "        for child in root.children:\n",
    "            attr = child.attr\n",
    "            desc = class_dist(child.value, labels)\n",
    "            if attr:\n",
    "                dot.node(name=str(child), label=\"{{{}|{}}}\".format(desc, attr.name))\n",
    "                dot.edge(str(root), str(child), label=child.description)\n",
    "            else:\n",
    "                dot.node(name=str(child), label=\"{{{}|{}}}\".format(desc, \"\"))\n",
    "                dot.edge(str(root), str(child), label=child.description)\n",
    "\n",
    "            visualize_tree_aux(child, labels, dot)\n",
    "\n",
    "        return dot\n",
    "\n",
    "    return visualize_tree_aux(tree.root, labels)\n",
    "\n",
    "def evaluate_performance(test, pred):\n",
    "    result = Orange.evaluation.Results()\n",
    "    result.actual = test.Y\n",
    "    result.predicted = [pred]\n",
    "\n",
    "    ca = Orange.evaluation.CA()\n",
    "\n",
    "    return ca(result)[0]"
   ]
  },
  {
   "cell_type": "markdown",
   "metadata": {},
   "source": [
    "### Exploratory Data Analysis"
   ]
  },
  {
   "cell_type": "code",
   "execution_count": 3,
   "metadata": {},
   "outputs": [
    {
     "data": {
      "application/vnd.jupyter.widget-view+json": {
       "model_id": "e3943c1ab28849748eb82c6d326385a9",
       "version_major": 2,
       "version_minor": 0
      },
      "text/plain": [
       "HBox(children=(HTML(value='Summarize dataset'), FloatProgress(value=0.0, max=19.0), HTML(value='')))"
      ]
     },
     "metadata": {},
     "output_type": "display_data"
    },
    {
     "name": "stdout",
     "output_type": "stream",
     "text": [
      "\n"
     ]
    },
    {
     "data": {
      "application/vnd.jupyter.widget-view+json": {
       "model_id": "146753c5a3a1405388f7c12eb1810bf9",
       "version_major": 2,
       "version_minor": 0
      },
      "text/plain": [
       "HBox(children=(HTML(value='Generate report structure'), FloatProgress(value=0.0, max=1.0), HTML(value='')))"
      ]
     },
     "metadata": {},
     "output_type": "display_data"
    },
    {
     "name": "stdout",
     "output_type": "stream",
     "text": [
      "\n"
     ]
    },
    {
     "data": {
      "application/vnd.jupyter.widget-view+json": {
       "model_id": "",
       "version_major": 2,
       "version_minor": 0
      },
      "text/plain": [
       "HBox(children=(HTML(value='Render widgets'), FloatProgress(value=0.0, max=1.0), HTML(value='')))"
      ]
     },
     "metadata": {},
     "output_type": "display_data"
    },
    {
     "data": {
      "application/vnd.jupyter.widget-view+json": {
       "model_id": "f858eed247874a66be0b48fc6e8b615f",
       "version_major": 2,
       "version_minor": 0
      },
      "text/plain": [
       "VBox(children=(Tab(children=(Tab(children=(GridBox(children=(VBox(children=(GridspecLayout(children=(HTML(valu…"
      ]
     },
     "metadata": {},
     "output_type": "display_data"
    }
   ],
   "source": [
    "dataset, df = table2dataframe(Orange.data.Table(\"iris\"))\n",
    "profile = ProfileReport(df, title=\"Pandas Profiling Report\", explorative=True)\n",
    "profile.to_widgets()"
   ]
  },
  {
   "cell_type": "markdown",
   "metadata": {},
   "source": [
    "### Dimensionality Reduction Plots"
   ]
  },
  {
   "cell_type": "code",
   "execution_count": 4,
   "metadata": {},
   "outputs": [
    {
     "data": {
      "image/png": "[encoded data removed]",
      "text/plain": [
       "<Figure size 864x576 with 2 Axes>"
      ]
     },
     "metadata": {},
     "output_type": "display_data"
    }
   ],
   "source": [
    "plot_pca_tsne(dataset, \"Iris\")"
   ]
  },
  {
   "cell_type": "markdown",
   "metadata": {},
   "source": [
    "### Building Decision Tree Model, Training and Testing Data Split"
   ]
  },
  {
   "cell_type": "code",
   "execution_count": 5,
   "metadata": {},
   "outputs": [
    {
     "name": "stdout",
     "output_type": "stream",
     "text": [
      "       [40.  0.  0.] petal length ≤ 1.9\n",
      "       [ 0. 40. 40.] petal length > 1.9\n",
      "       [ 0. 40.  5.]     petal width ≤ 1.7\n",
      "       [ 0. 40.  3.]         petal length ≤ 5.1\n",
      "       [ 0. 38.  1.]             petal length ≤ 4.9\n",
      "          [0. 2. 2.]             petal length > 4.9\n",
      "          [0. 0. 2.]                 petal width ≤ 1.5\n",
      "          [0. 2. 0.]                 petal width > 1.5\n",
      "          [0. 0. 2.]         petal length > 5.1\n",
      "       [ 0.  0. 35.]     petal width > 1.7\n",
      "\n"
     ]
    },
    {
     "data": {
      "image/svg+xml": [
       "<?xml version=\"1.0\" encoding=\"UTF-8\" standalone=\"no\"?>\n",
       "<!DOCTYPE svg PUBLIC \"-//W3C//DTD SVG 1.1//EN\"\n",
       " \"http://www.w3.org/Graphics/SVG/1.1/DTD/svg11.dtd\">\n",
       "<!-- Generated by graphviz version 2.44.1 (0)\n",
       " -->\n",
       "<!-- Pages: 1 -->\n",
       "<svg width=\"508pt\" height=\"725pt\"\n",
       " viewBox=\"0.00 0.00 508.00 725.00\" xmlns=\"http://www.w3.org/2000/svg\" xmlns:xlink=\"http://www.w3.org/1999/xlink\">\n",
       "<g id=\"graph0\" class=\"graph\" transform=\"scale(1 1) rotate(0) translate(4 721)\">\n",
       "<polygon fill=\"white\" stroke=\"transparent\" points=\"-4,4 -4,-721 504,-721 504,4 -4,4\"/>\n",
       "<!-- Orange.tree.NumericNode object at 0x7fddd00bbbb0 -->\n",
       "<g id=\"node1\" class=\"node\">\n",
       "<title>Orange.tree.NumericNode object at 0x7fddd00bbbb0</title>\n",
       "<polygon fill=\"none\" stroke=\"black\" points=\"94,-640.5 94,-716.5 271,-716.5 271,-640.5 94,-640.5\"/>\n",
       "<text text-anchor=\"start\" x=\"102\" y=\"-701.3\" font-family=\"Times,serif\" font-size=\"14.00\">Iris&#45;setosa = 0.333</text>\n",
       "<text text-anchor=\"start\" x=\"102\" y=\"-686.3\" font-family=\"Times,serif\" font-size=\"14.00\">Iris&#45;versicolor = 0.333</text>\n",
       "<text text-anchor=\"middle\" x=\"182.5\" y=\"-671.3\" font-family=\"Times,serif\" font-size=\"14.00\">Iris&#45;virginica = 0.333</text>\n",
       "<polyline fill=\"none\" stroke=\"black\" points=\"94,-663.5 271,-663.5 \"/>\n",
       "<text text-anchor=\"middle\" x=\"182.5\" y=\"-648.3\" font-family=\"Times,serif\" font-size=\"14.00\">petal length</text>\n",
       "</g>\n",
       "<!-- Orange.tree.Node object at 0x7fddd00bbaf0 -->\n",
       "<g id=\"node2\" class=\"node\">\n",
       "<title>Orange.tree.Node object at 0x7fddd00bbaf0</title>\n",
       "<polygon fill=\"none\" stroke=\"black\" points=\"63,-512.5 63,-588.5 240,-588.5 240,-512.5 63,-512.5\"/>\n",
       "<text text-anchor=\"start\" x=\"71\" y=\"-573.3\" font-family=\"Times,serif\" font-size=\"14.00\">Iris&#45;setosa = 1.000</text>\n",
       "<text text-anchor=\"start\" x=\"71\" y=\"-558.3\" font-family=\"Times,serif\" font-size=\"14.00\">Iris&#45;versicolor = 0.000</text>\n",
       "<text text-anchor=\"middle\" x=\"151.5\" y=\"-543.3\" font-family=\"Times,serif\" font-size=\"14.00\">Iris&#45;virginica = 0.000</text>\n",
       "<polyline fill=\"none\" stroke=\"black\" points=\"63,-535.5 240,-535.5 \"/>\n",
       "<text text-anchor=\"middle\" x=\"151.5\" y=\"-520.3\" font-family=\"Times,serif\" font-size=\"14.00\"> </text>\n",
       "</g>\n",
       "<!-- Orange.tree.NumericNode object at 0x7fddd00bbbb0&#45;&gt;Orange.tree.Node object at 0x7fddd00bbaf0 -->\n",
       "<g id=\"edge1\" class=\"edge\">\n",
       "<title>Orange.tree.NumericNode object at 0x7fddd00bbbb0&#45;&gt;Orange.tree.Node object at 0x7fddd00bbaf0</title>\n",
       "<path fill=\"none\" stroke=\"black\" d=\"M173.37,-640.38C170.15,-627.29 166.48,-612.41 163.09,-598.61\"/>\n",
       "<polygon fill=\"black\" stroke=\"black\" points=\"166.46,-597.67 160.68,-588.79 159.67,-599.34 166.46,-597.67\"/>\n",
       "<text text-anchor=\"middle\" x=\"188.5\" y=\"-610.8\" font-family=\"Times,serif\" font-size=\"14.00\">≤ 1.9</text>\n",
       "</g>\n",
       "<!-- Orange.tree.NumericNode object at 0x7fddd00bbe20 -->\n",
       "<g id=\"node3\" class=\"node\">\n",
       "<title>Orange.tree.NumericNode object at 0x7fddd00bbe20</title>\n",
       "<polygon fill=\"none\" stroke=\"black\" points=\"258,-512.5 258,-588.5 435,-588.5 435,-512.5 258,-512.5\"/>\n",
       "<text text-anchor=\"start\" x=\"266\" y=\"-573.3\" font-family=\"Times,serif\" font-size=\"14.00\">Iris&#45;setosa = 0.000</text>\n",
       "<text text-anchor=\"start\" x=\"266\" y=\"-558.3\" font-family=\"Times,serif\" font-size=\"14.00\">Iris&#45;versicolor = 0.500</text>\n",
       "<text text-anchor=\"middle\" x=\"346.5\" y=\"-543.3\" font-family=\"Times,serif\" font-size=\"14.00\">Iris&#45;virginica = 0.500</text>\n",
       "<polyline fill=\"none\" stroke=\"black\" points=\"258,-535.5 435,-535.5 \"/>\n",
       "<text text-anchor=\"middle\" x=\"346.5\" y=\"-520.3\" font-family=\"Times,serif\" font-size=\"14.00\">petal width</text>\n",
       "</g>\n",
       "<!-- Orange.tree.NumericNode object at 0x7fddd00bbbb0&#45;&gt;Orange.tree.NumericNode object at 0x7fddd00bbe20 -->\n",
       "<g id=\"edge2\" class=\"edge\">\n",
       "<title>Orange.tree.NumericNode object at 0x7fddd00bbbb0&#45;&gt;Orange.tree.NumericNode object at 0x7fddd00bbe20</title>\n",
       "<path fill=\"none\" stroke=\"black\" d=\"M230.82,-640.38C249.42,-626.09 270.82,-609.64 290.12,-594.82\"/>\n",
       "<polygon fill=\"black\" stroke=\"black\" points=\"292.45,-597.44 298.24,-588.57 288.18,-591.89 292.45,-597.44\"/>\n",
       "<text text-anchor=\"middle\" x=\"289.5\" y=\"-610.8\" font-family=\"Times,serif\" font-size=\"14.00\">&gt; 1.9</text>\n",
       "</g>\n",
       "<!-- Orange.tree.NumericNode object at 0x7fddd00bbfd0 -->\n",
       "<g id=\"node4\" class=\"node\">\n",
       "<title>Orange.tree.NumericNode object at 0x7fddd00bbfd0</title>\n",
       "<polygon fill=\"none\" stroke=\"black\" points=\"128,-384.5 128,-460.5 305,-460.5 305,-384.5 128,-384.5\"/>\n",
       "<text text-anchor=\"start\" x=\"136\" y=\"-445.3\" font-family=\"Times,serif\" font-size=\"14.00\">Iris&#45;setosa = 0.000</text>\n",
       "<text text-anchor=\"start\" x=\"136\" y=\"-430.3\" font-family=\"Times,serif\" font-size=\"14.00\">Iris&#45;versicolor = 0.889</text>\n",
       "<text text-anchor=\"middle\" x=\"216.5\" y=\"-415.3\" font-family=\"Times,serif\" font-size=\"14.00\">Iris&#45;virginica = 0.111</text>\n",
       "<polyline fill=\"none\" stroke=\"black\" points=\"128,-407.5 305,-407.5 \"/>\n",
       "<text text-anchor=\"middle\" x=\"216.5\" y=\"-392.3\" font-family=\"Times,serif\" font-size=\"14.00\">petal length</text>\n",
       "</g>\n",
       "<!-- Orange.tree.NumericNode object at 0x7fddd00bbe20&#45;&gt;Orange.tree.NumericNode object at 0x7fddd00bbfd0 -->\n",
       "<g id=\"edge3\" class=\"edge\">\n",
       "<title>Orange.tree.NumericNode object at 0x7fddd00bbe20&#45;&gt;Orange.tree.NumericNode object at 0x7fddd00bbfd0</title>\n",
       "<path fill=\"none\" stroke=\"black\" d=\"M308.2,-512.38C293.78,-498.4 277.24,-482.37 262.22,-467.81\"/>\n",
       "<polygon fill=\"black\" stroke=\"black\" points=\"264.59,-465.24 254.98,-460.79 259.72,-470.27 264.59,-465.24\"/>\n",
       "<text text-anchor=\"middle\" x=\"305.5\" y=\"-482.8\" font-family=\"Times,serif\" font-size=\"14.00\">≤ 1.7</text>\n",
       "</g>\n",
       "<!-- Orange.tree.Node object at 0x7fddd00bbb80 -->\n",
       "<g id=\"node11\" class=\"node\">\n",
       "<title>Orange.tree.Node object at 0x7fddd00bbb80</title>\n",
       "<polygon fill=\"none\" stroke=\"black\" points=\"323,-384.5 323,-460.5 500,-460.5 500,-384.5 323,-384.5\"/>\n",
       "<text text-anchor=\"start\" x=\"331\" y=\"-445.3\" font-family=\"Times,serif\" font-size=\"14.00\">Iris&#45;setosa = 0.000</text>\n",
       "<text text-anchor=\"start\" x=\"331\" y=\"-430.3\" font-family=\"Times,serif\" font-size=\"14.00\">Iris&#45;versicolor = 0.000</text>\n",
       "<text text-anchor=\"middle\" x=\"411.5\" y=\"-415.3\" font-family=\"Times,serif\" font-size=\"14.00\">Iris&#45;virginica = 1.000</text>\n",
       "<polyline fill=\"none\" stroke=\"black\" points=\"323,-407.5 500,-407.5 \"/>\n",
       "<text text-anchor=\"middle\" x=\"411.5\" y=\"-392.3\" font-family=\"Times,serif\" font-size=\"14.00\"> </text>\n",
       "</g>\n",
       "<!-- Orange.tree.NumericNode object at 0x7fddd00bbe20&#45;&gt;Orange.tree.Node object at 0x7fddd00bbb80 -->\n",
       "<g id=\"edge10\" class=\"edge\">\n",
       "<title>Orange.tree.NumericNode object at 0x7fddd00bbe20&#45;&gt;Orange.tree.Node object at 0x7fddd00bbb80</title>\n",
       "<path fill=\"none\" stroke=\"black\" d=\"M365.65,-512.38C372.53,-499.04 380.38,-483.83 387.61,-469.8\"/>\n",
       "<polygon fill=\"black\" stroke=\"black\" points=\"390.79,-471.28 392.26,-460.79 384.57,-468.08 390.79,-471.28\"/>\n",
       "<text text-anchor=\"middle\" x=\"401.5\" y=\"-482.8\" font-family=\"Times,serif\" font-size=\"14.00\">&gt; 1.7</text>\n",
       "</g>\n",
       "<!-- Orange.tree.NumericNode object at 0x7fddd004d220 -->\n",
       "<g id=\"node5\" class=\"node\">\n",
       "<title>Orange.tree.NumericNode object at 0x7fddd004d220</title>\n",
       "<polygon fill=\"none\" stroke=\"black\" points=\"31,-256.5 31,-332.5 208,-332.5 208,-256.5 31,-256.5\"/>\n",
       "<text text-anchor=\"start\" x=\"39\" y=\"-317.3\" font-family=\"Times,serif\" font-size=\"14.00\">Iris&#45;setosa = 0.000</text>\n",
       "<text text-anchor=\"start\" x=\"39\" y=\"-302.3\" font-family=\"Times,serif\" font-size=\"14.00\">Iris&#45;versicolor = 0.930</text>\n",
       "<text text-anchor=\"middle\" x=\"119.5\" y=\"-287.3\" font-family=\"Times,serif\" font-size=\"14.00\">Iris&#45;virginica = 0.070</text>\n",
       "<polyline fill=\"none\" stroke=\"black\" points=\"31,-279.5 208,-279.5 \"/>\n",
       "<text text-anchor=\"middle\" x=\"119.5\" y=\"-264.3\" font-family=\"Times,serif\" font-size=\"14.00\">petal length</text>\n",
       "</g>\n",
       "<!-- Orange.tree.NumericNode object at 0x7fddd00bbfd0&#45;&gt;Orange.tree.NumericNode object at 0x7fddd004d220 -->\n",
       "<g id=\"edge4\" class=\"edge\">\n",
       "<title>Orange.tree.NumericNode object at 0x7fddd00bbfd0&#45;&gt;Orange.tree.NumericNode object at 0x7fddd004d220</title>\n",
       "<path fill=\"none\" stroke=\"black\" d=\"M187.92,-384.38C177.46,-370.78 165.5,-355.25 154.53,-341\"/>\n",
       "<polygon fill=\"black\" stroke=\"black\" points=\"157.08,-338.58 148.21,-332.79 151.54,-342.85 157.08,-338.58\"/>\n",
       "<text text-anchor=\"middle\" x=\"191.5\" y=\"-354.8\" font-family=\"Times,serif\" font-size=\"14.00\">≤ 5.1</text>\n",
       "</g>\n",
       "<!-- Orange.tree.Node object at 0x7fddd00bbb20 -->\n",
       "<g id=\"node10\" class=\"node\">\n",
       "<title>Orange.tree.Node object at 0x7fddd00bbb20</title>\n",
       "<polygon fill=\"none\" stroke=\"black\" points=\"226,-256.5 226,-332.5 403,-332.5 403,-256.5 226,-256.5\"/>\n",
       "<text text-anchor=\"start\" x=\"234\" y=\"-317.3\" font-family=\"Times,serif\" font-size=\"14.00\">Iris&#45;setosa = 0.000</text>\n",
       "<text text-anchor=\"start\" x=\"234\" y=\"-302.3\" font-family=\"Times,serif\" font-size=\"14.00\">Iris&#45;versicolor = 0.000</text>\n",
       "<text text-anchor=\"middle\" x=\"314.5\" y=\"-287.3\" font-family=\"Times,serif\" font-size=\"14.00\">Iris&#45;virginica = 1.000</text>\n",
       "<polyline fill=\"none\" stroke=\"black\" points=\"226,-279.5 403,-279.5 \"/>\n",
       "<text text-anchor=\"middle\" x=\"314.5\" y=\"-264.3\" font-family=\"Times,serif\" font-size=\"14.00\"> </text>\n",
       "</g>\n",
       "<!-- Orange.tree.NumericNode object at 0x7fddd00bbfd0&#45;&gt;Orange.tree.Node object at 0x7fddd00bbb20 -->\n",
       "<g id=\"edge9\" class=\"edge\">\n",
       "<title>Orange.tree.NumericNode object at 0x7fddd00bbfd0&#45;&gt;Orange.tree.Node object at 0x7fddd00bbb20</title>\n",
       "<path fill=\"none\" stroke=\"black\" d=\"M245.37,-384.38C255.95,-370.78 268.03,-355.25 279.11,-341\"/>\n",
       "<polygon fill=\"black\" stroke=\"black\" points=\"282.12,-342.84 285.49,-332.79 276.59,-338.54 282.12,-342.84\"/>\n",
       "<text text-anchor=\"middle\" x=\"288.5\" y=\"-354.8\" font-family=\"Times,serif\" font-size=\"14.00\">&gt; 5.1</text>\n",
       "</g>\n",
       "<!-- Orange.tree.Node object at 0x7fddd004d070 -->\n",
       "<g id=\"node6\" class=\"node\">\n",
       "<title>Orange.tree.Node object at 0x7fddd004d070</title>\n",
       "<polygon fill=\"none\" stroke=\"black\" points=\"0,-128.5 0,-204.5 177,-204.5 177,-128.5 0,-128.5\"/>\n",
       "<text text-anchor=\"start\" x=\"8\" y=\"-189.3\" font-family=\"Times,serif\" font-size=\"14.00\">Iris&#45;setosa = 0.000</text>\n",
       "<text text-anchor=\"start\" x=\"8\" y=\"-174.3\" font-family=\"Times,serif\" font-size=\"14.00\">Iris&#45;versicolor = 0.974</text>\n",
       "<text text-anchor=\"middle\" x=\"88.5\" y=\"-159.3\" font-family=\"Times,serif\" font-size=\"14.00\">Iris&#45;virginica = 0.026</text>\n",
       "<polyline fill=\"none\" stroke=\"black\" points=\"0,-151.5 177,-151.5 \"/>\n",
       "<text text-anchor=\"middle\" x=\"88.5\" y=\"-136.3\" font-family=\"Times,serif\" font-size=\"14.00\"> </text>\n",
       "</g>\n",
       "<!-- Orange.tree.NumericNode object at 0x7fddd004d220&#45;&gt;Orange.tree.Node object at 0x7fddd004d070 -->\n",
       "<g id=\"edge5\" class=\"edge\">\n",
       "<title>Orange.tree.NumericNode object at 0x7fddd004d220&#45;&gt;Orange.tree.Node object at 0x7fddd004d070</title>\n",
       "<path fill=\"none\" stroke=\"black\" d=\"M110.37,-256.38C107.15,-243.29 103.48,-228.41 100.09,-214.61\"/>\n",
       "<polygon fill=\"black\" stroke=\"black\" points=\"103.46,-213.67 97.68,-204.79 96.67,-215.34 103.46,-213.67\"/>\n",
       "<text text-anchor=\"middle\" x=\"125.5\" y=\"-226.8\" font-family=\"Times,serif\" font-size=\"14.00\">≤ 4.9</text>\n",
       "</g>\n",
       "<!-- Orange.tree.NumericNode object at 0x7fddd004d490 -->\n",
       "<g id=\"node7\" class=\"node\">\n",
       "<title>Orange.tree.NumericNode object at 0x7fddd004d490</title>\n",
       "<polygon fill=\"none\" stroke=\"black\" points=\"195,-128.5 195,-204.5 372,-204.5 372,-128.5 195,-128.5\"/>\n",
       "<text text-anchor=\"start\" x=\"203\" y=\"-189.3\" font-family=\"Times,serif\" font-size=\"14.00\">Iris&#45;setosa = 0.000</text>\n",
       "<text text-anchor=\"start\" x=\"203\" y=\"-174.3\" font-family=\"Times,serif\" font-size=\"14.00\">Iris&#45;versicolor = 0.500</text>\n",
       "<text text-anchor=\"middle\" x=\"283.5\" y=\"-159.3\" font-family=\"Times,serif\" font-size=\"14.00\">Iris&#45;virginica = 0.500</text>\n",
       "<polyline fill=\"none\" stroke=\"black\" points=\"195,-151.5 372,-151.5 \"/>\n",
       "<text text-anchor=\"middle\" x=\"283.5\" y=\"-136.3\" font-family=\"Times,serif\" font-size=\"14.00\">petal width</text>\n",
       "</g>\n",
       "<!-- Orange.tree.NumericNode object at 0x7fddd004d220&#45;&gt;Orange.tree.NumericNode object at 0x7fddd004d490 -->\n",
       "<g id=\"edge6\" class=\"edge\">\n",
       "<title>Orange.tree.NumericNode object at 0x7fddd004d220&#45;&gt;Orange.tree.NumericNode object at 0x7fddd004d490</title>\n",
       "<path fill=\"none\" stroke=\"black\" d=\"M167.82,-256.38C186.42,-242.09 207.82,-225.64 227.12,-210.82\"/>\n",
       "<polygon fill=\"black\" stroke=\"black\" points=\"229.45,-213.44 235.24,-204.57 225.18,-207.89 229.45,-213.44\"/>\n",
       "<text text-anchor=\"middle\" x=\"226.5\" y=\"-226.8\" font-family=\"Times,serif\" font-size=\"14.00\">&gt; 4.9</text>\n",
       "</g>\n",
       "<!-- Orange.tree.Node object at 0x7fddd004d280 -->\n",
       "<g id=\"node8\" class=\"node\">\n",
       "<title>Orange.tree.Node object at 0x7fddd004d280</title>\n",
       "<polygon fill=\"none\" stroke=\"black\" points=\"97,-0.5 97,-76.5 274,-76.5 274,-0.5 97,-0.5\"/>\n",
       "<text text-anchor=\"start\" x=\"105\" y=\"-61.3\" font-family=\"Times,serif\" font-size=\"14.00\">Iris&#45;setosa = 0.000</text>\n",
       "<text text-anchor=\"start\" x=\"105\" y=\"-46.3\" font-family=\"Times,serif\" font-size=\"14.00\">Iris&#45;versicolor = 0.000</text>\n",
       "<text text-anchor=\"middle\" x=\"185.5\" y=\"-31.3\" font-family=\"Times,serif\" font-size=\"14.00\">Iris&#45;virginica = 1.000</text>\n",
       "<polyline fill=\"none\" stroke=\"black\" points=\"97,-23.5 274,-23.5 \"/>\n",
       "<text text-anchor=\"middle\" x=\"185.5\" y=\"-8.3\" font-family=\"Times,serif\" font-size=\"14.00\"> </text>\n",
       "</g>\n",
       "<!-- Orange.tree.NumericNode object at 0x7fddd004d490&#45;&gt;Orange.tree.Node object at 0x7fddd004d280 -->\n",
       "<g id=\"edge7\" class=\"edge\">\n",
       "<title>Orange.tree.NumericNode object at 0x7fddd004d490&#45;&gt;Orange.tree.Node object at 0x7fddd004d280</title>\n",
       "<path fill=\"none\" stroke=\"black\" d=\"M254.63,-128.38C244.05,-114.78 231.97,-99.25 220.89,-85\"/>\n",
       "<polygon fill=\"black\" stroke=\"black\" points=\"223.41,-82.54 214.51,-76.79 217.88,-86.84 223.41,-82.54\"/>\n",
       "<text text-anchor=\"middle\" x=\"257.5\" y=\"-98.8\" font-family=\"Times,serif\" font-size=\"14.00\">≤ 1.5</text>\n",
       "</g>\n",
       "<!-- Orange.tree.Node object at 0x7fddd004d0d0 -->\n",
       "<g id=\"node9\" class=\"node\">\n",
       "<title>Orange.tree.Node object at 0x7fddd004d0d0</title>\n",
       "<polygon fill=\"none\" stroke=\"black\" points=\"292,-0.5 292,-76.5 469,-76.5 469,-0.5 292,-0.5\"/>\n",
       "<text text-anchor=\"start\" x=\"300\" y=\"-61.3\" font-family=\"Times,serif\" font-size=\"14.00\">Iris&#45;setosa = 0.000</text>\n",
       "<text text-anchor=\"start\" x=\"300\" y=\"-46.3\" font-family=\"Times,serif\" font-size=\"14.00\">Iris&#45;versicolor = 1.000</text>\n",
       "<text text-anchor=\"middle\" x=\"380.5\" y=\"-31.3\" font-family=\"Times,serif\" font-size=\"14.00\">Iris&#45;virginica = 0.000</text>\n",
       "<polyline fill=\"none\" stroke=\"black\" points=\"292,-23.5 469,-23.5 \"/>\n",
       "<text text-anchor=\"middle\" x=\"380.5\" y=\"-8.3\" font-family=\"Times,serif\" font-size=\"14.00\"> </text>\n",
       "</g>\n",
       "<!-- Orange.tree.NumericNode object at 0x7fddd004d490&#45;&gt;Orange.tree.Node object at 0x7fddd004d0d0 -->\n",
       "<g id=\"edge8\" class=\"edge\">\n",
       "<title>Orange.tree.NumericNode object at 0x7fddd004d490&#45;&gt;Orange.tree.Node object at 0x7fddd004d0d0</title>\n",
       "<path fill=\"none\" stroke=\"black\" d=\"M312.08,-128.38C322.54,-114.78 334.5,-99.25 345.47,-85\"/>\n",
       "<polygon fill=\"black\" stroke=\"black\" points=\"348.46,-86.85 351.79,-76.79 342.92,-82.58 348.46,-86.85\"/>\n",
       "<text text-anchor=\"middle\" x=\"355.5\" y=\"-98.8\" font-family=\"Times,serif\" font-size=\"14.00\">&gt; 1.5</text>\n",
       "</g>\n",
       "</g>\n",
       "</svg>\n"
      ],
      "text/plain": [
       "<graphviz.dot.Digraph at 0x7fdde8381ca0>"
      ]
     },
     "execution_count": 5,
     "metadata": {},
     "output_type": "execute_result"
    }
   ],
   "source": [
    "training, testing = Orange.evaluation.testing.sample(\n",
    "    dataset, n=0.8, stratified=True, replace=False\n",
    ")\n",
    "assert len(training) + len(testing) == len(dataset)\n",
    "\n",
    "learner = Orange.classification.TreeLearner()\n",
    "dt = learner(training)\n",
    "\n",
    "print(dt.print_tree())\n",
    "visualize_tree(dt, list(training.domain.class_var.values))"
   ]
  },
  {
   "cell_type": "markdown",
   "metadata": {},
   "source": [
    "### Evaluating Model"
   ]
  },
  {
   "cell_type": "code",
   "execution_count": 6,
   "metadata": {},
   "outputs": [
    {
     "name": "stdout",
     "output_type": "stream",
     "text": [
      "Classification Accuracy = 0.967\n"
     ]
    }
   ],
   "source": [
    "y_pred = dt(testing)\n",
    "\n",
    "acc = evaluate_performance(testing, y_pred)\n",
    "print(\"Classification Accuracy = {:.3f}\".format(acc))"
   ]
  },
  {
   "cell_type": "code",
   "execution_count": 7,
   "metadata": {},
   "outputs": [],
   "source": [
    "# from PyQt5.QtWidgets import *\n",
    "# from PyQt5.QtGui import *\n",
    "# from PyQt5.QtCore import *\n",
    "\n",
    "# import numpy as np\n",
    "\n",
    "# from Orange.widgets.utils.widgetpreview import WidgetPreview\n",
    "# from Orange.widgets.visualize.owtreeviewer import OWTreeGraph\n",
    "# from Orange.widgets.unsupervised.owtsne import OWtSNE\n",
    "\n",
    "# import sys\n",
    "# if not QApplication.instance():\n",
    "#     app = QApplication(sys.argv)\n",
    "# else:\n",
    "#     app = QApplication.instance() \n",
    "\n",
    "# WidgetPreview(OWTreeGraph).run(classifier)\n",
    "# WidgetPreview(OWtSNE).run(set_data=iris, set_subset_data=iris[np.random.choice(len(iris), 2)])\n",
    "\n",
    "# QApplication.setQuitOnLastWindowClosed(True)\n",
    "# app.exec_()\n",
    "# app.quit()"
   ]
  },
  {
   "cell_type": "markdown",
   "metadata": {},
   "source": [
    "<a rel=\"license\" href=\"http://creativecommons.org/licenses/by-nc-sa/4.0/\"><img alt=\"Creative Commons License\" style=\"border-width:0\" src=\"https://i.creativecommons.org/l/by-nc-sa/4.0/88x31.png\" /></a><br />This work is licensed under a <a rel=\"license\" href=\"http://creativecommons.org/licenses/by-nc-sa/4.0/\">Creative Commons Attribution-NonCommercial-ShareAlike 4.0 International License</a>.\n",
    "\n",
    "Please contact Haluk Dogan (<a href=\"mailto:hdogan@vivaldi.net\">hdogan@vivaldi.net</a>) for further questions or inquries."
   ]
  }
 ],
 "metadata": {
  "kernelspec": {
   "display_name": "Python 3",
   "language": "python",
   "name": "python3"
  },
  "language_info": {
   "codemirror_mode": {
    "name": "ipython",
    "version": 3
   },
   "file_extension": ".py",
   "mimetype": "text/x-python",
   "name": "python",
   "nbconvert_exporter": "python",
   "pygments_lexer": "ipython3",
   "version": "3.8.6"
  }
 },
 "nbformat": 4,
 "nbformat_minor": 4
}
